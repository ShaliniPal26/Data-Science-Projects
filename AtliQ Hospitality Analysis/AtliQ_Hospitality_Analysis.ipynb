{
 "cells": [
  {
   "cell_type": "markdown",
   "id": "03ded4ad",
   "metadata": {},
   "source": [
    "<center><h1 style=\"color:green;background-color:pink\">Foreign Direct investment Analysis</h1></center>\n",
    "<h2> By: Shalini Pal</h2>"
   ]
  },
  {
   "cell_type": "markdown",
   "id": "54d02049",
   "metadata": {},
   "source": [
    "Importing relevant libraries"
   ]
  },
  {
   "cell_type": "code",
   "execution_count": 1,
   "id": "b942ba59",
   "metadata": {},
   "outputs": [],
   "source": [
    "import pandas as pd\n",
    "import numpy as np\n",
    "import seaborn as sns\n",
    "sns.set()\n",
    "import matplotlib.pyplot as plt\n",
    "import warnings\n",
    "warnings.filterwarnings(\"ignore\")"
   ]
  },
  {
   "cell_type": "markdown",
   "id": "5ff80ea0",
   "metadata": {},
   "source": [
    "Importing the datasets"
   ]
  },
  {
   "cell_type": "code",
   "execution_count": 2,
   "id": "395364dc",
   "metadata": {},
   "outputs": [],
   "source": [
    "date_df = pd.read_csv(\"Datasets\\\\dim_date.csv\")\n",
    "hotels_df = pd.read_csv(\"Datasets\\\\dim_hotels.csv\")\n",
    "rooms_df = pd.read_csv(\"Datasets\\\\dim_rooms.csv\")\n",
    "fact_agg_bookings = pd.read_csv(\"Datasets\\\\fact_aggregated_bookings.csv\")\n",
    "fact_bookings = pd.read_csv(\"Datasets\\\\fact_bookings.csv\")"
   ]
  },
  {
   "cell_type": "markdown",
   "id": "ad2fb276",
   "metadata": {},
   "source": [
    "Cleaning the datasets"
   ]
  },
  {
   "cell_type": "code",
   "execution_count": 3,
   "id": "cd731a1c",
   "metadata": {},
   "outputs": [
    {
     "data": {
      "text/html": [
       "<div>\n",
       "<style scoped>\n",
       "    .dataframe tbody tr th:only-of-type {\n",
       "        vertical-align: middle;\n",
       "    }\n",
       "\n",
       "    .dataframe tbody tr th {\n",
       "        vertical-align: top;\n",
       "    }\n",
       "\n",
       "    .dataframe thead th {\n",
       "        text-align: right;\n",
       "    }\n",
       "</style>\n",
       "<table border=\"1\" class=\"dataframe\">\n",
       "  <thead>\n",
       "    <tr style=\"text-align: right;\">\n",
       "      <th></th>\n",
       "      <th>date</th>\n",
       "      <th>mmm yy</th>\n",
       "      <th>week no</th>\n",
       "      <th>day_type</th>\n",
       "    </tr>\n",
       "  </thead>\n",
       "  <tbody>\n",
       "    <tr>\n",
       "      <th>0</th>\n",
       "      <td>01-May-22</td>\n",
       "      <td>May 22</td>\n",
       "      <td>W 19</td>\n",
       "      <td>weekend</td>\n",
       "    </tr>\n",
       "    <tr>\n",
       "      <th>1</th>\n",
       "      <td>02-May-22</td>\n",
       "      <td>May 22</td>\n",
       "      <td>W 19</td>\n",
       "      <td>weekeday</td>\n",
       "    </tr>\n",
       "    <tr>\n",
       "      <th>2</th>\n",
       "      <td>03-May-22</td>\n",
       "      <td>May 22</td>\n",
       "      <td>W 19</td>\n",
       "      <td>weekeday</td>\n",
       "    </tr>\n",
       "    <tr>\n",
       "      <th>3</th>\n",
       "      <td>04-May-22</td>\n",
       "      <td>May 22</td>\n",
       "      <td>W 19</td>\n",
       "      <td>weekeday</td>\n",
       "    </tr>\n",
       "    <tr>\n",
       "      <th>4</th>\n",
       "      <td>05-May-22</td>\n",
       "      <td>May 22</td>\n",
       "      <td>W 19</td>\n",
       "      <td>weekeday</td>\n",
       "    </tr>\n",
       "  </tbody>\n",
       "</table>\n",
       "</div>"
      ],
      "text/plain": [
       "        date  mmm yy week no  day_type\n",
       "0  01-May-22  May 22    W 19   weekend\n",
       "1  02-May-22  May 22    W 19  weekeday\n",
       "2  03-May-22  May 22    W 19  weekeday\n",
       "3  04-May-22  May 22    W 19  weekeday\n",
       "4  05-May-22  May 22    W 19  weekeday"
      ]
     },
     "execution_count": 3,
     "metadata": {},
     "output_type": "execute_result"
    }
   ],
   "source": [
    "date_df.head()"
   ]
  },
  {
   "cell_type": "code",
   "execution_count": 4,
   "id": "7002aaa7",
   "metadata": {},
   "outputs": [
    {
     "data": {
      "text/plain": [
       "date        0\n",
       "mmm yy      0\n",
       "week no     0\n",
       "day_type    0\n",
       "dtype: int64"
      ]
     },
     "execution_count": 4,
     "metadata": {},
     "output_type": "execute_result"
    }
   ],
   "source": [
    "date_df.isnull().sum() #there are no missing values in the dataset"
   ]
  },
  {
   "cell_type": "code",
   "execution_count": 5,
   "id": "37f7587b",
   "metadata": {},
   "outputs": [
    {
     "data": {
      "text/plain": [
       "0"
      ]
     },
     "execution_count": 5,
     "metadata": {},
     "output_type": "execute_result"
    }
   ],
   "source": [
    "date_df.duplicated().sum() # no duplicated values"
   ]
  },
  {
   "cell_type": "code",
   "execution_count": 6,
   "id": "95fb0d85",
   "metadata": {},
   "outputs": [
    {
     "name": "stdout",
     "output_type": "stream",
     "text": [
      "<class 'pandas.core.frame.DataFrame'>\n",
      "RangeIndex: 92 entries, 0 to 91\n",
      "Data columns (total 4 columns):\n",
      " #   Column    Non-Null Count  Dtype \n",
      "---  ------    --------------  ----- \n",
      " 0   date      92 non-null     object\n",
      " 1   mmm yy    92 non-null     object\n",
      " 2   week no   92 non-null     object\n",
      " 3   day_type  92 non-null     object\n",
      "dtypes: object(4)\n",
      "memory usage: 3.0+ KB\n"
     ]
    }
   ],
   "source": [
    "date_df.info()"
   ]
  },
  {
   "cell_type": "code",
   "execution_count": 7,
   "id": "41db1316",
   "metadata": {},
   "outputs": [
    {
     "data": {
      "text/plain": [
       "(92, 4)"
      ]
     },
     "execution_count": 7,
     "metadata": {},
     "output_type": "execute_result"
    }
   ],
   "source": [
    "date_df.shape"
   ]
  },
  {
   "cell_type": "code",
   "execution_count": 8,
   "id": "b32215f2",
   "metadata": {},
   "outputs": [
    {
     "name": "stdout",
     "output_type": "stream",
     "text": [
      "<class 'pandas.core.frame.DataFrame'>\n",
      "RangeIndex: 92 entries, 0 to 91\n",
      "Data columns (total 3 columns):\n",
      " #   Column    Non-Null Count  Dtype         \n",
      "---  ------    --------------  -----         \n",
      " 0   date      92 non-null     datetime64[ns]\n",
      " 1   week no   92 non-null     object        \n",
      " 2   day_type  92 non-null     object        \n",
      "dtypes: datetime64[ns](1), object(2)\n",
      "memory usage: 2.3+ KB\n"
     ]
    }
   ],
   "source": [
    "date_df['date'] = pd.to_datetime(date_df['date'])\n",
    "date_df.drop(['mmm yy'],axis=1,inplace=True)\n",
    "date_df.info()"
   ]
  },
  {
   "cell_type": "code",
   "execution_count": 9,
   "id": "1ce5db41",
   "metadata": {},
   "outputs": [
    {
     "data": {
      "text/html": [
       "<div>\n",
       "<style scoped>\n",
       "    .dataframe tbody tr th:only-of-type {\n",
       "        vertical-align: middle;\n",
       "    }\n",
       "\n",
       "    .dataframe tbody tr th {\n",
       "        vertical-align: top;\n",
       "    }\n",
       "\n",
       "    .dataframe thead th {\n",
       "        text-align: right;\n",
       "    }\n",
       "</style>\n",
       "<table border=\"1\" class=\"dataframe\">\n",
       "  <thead>\n",
       "    <tr style=\"text-align: right;\">\n",
       "      <th></th>\n",
       "      <th>property_id</th>\n",
       "      <th>property_name</th>\n",
       "      <th>category</th>\n",
       "      <th>city</th>\n",
       "    </tr>\n",
       "  </thead>\n",
       "  <tbody>\n",
       "    <tr>\n",
       "      <th>0</th>\n",
       "      <td>16558</td>\n",
       "      <td>Atliq Grands</td>\n",
       "      <td>Luxury</td>\n",
       "      <td>Delhi</td>\n",
       "    </tr>\n",
       "    <tr>\n",
       "      <th>1</th>\n",
       "      <td>16559</td>\n",
       "      <td>Atliq Exotica</td>\n",
       "      <td>Luxury</td>\n",
       "      <td>Mumbai</td>\n",
       "    </tr>\n",
       "    <tr>\n",
       "      <th>2</th>\n",
       "      <td>16560</td>\n",
       "      <td>Atliq City</td>\n",
       "      <td>Business</td>\n",
       "      <td>Delhi</td>\n",
       "    </tr>\n",
       "    <tr>\n",
       "      <th>3</th>\n",
       "      <td>16561</td>\n",
       "      <td>Atliq Blu</td>\n",
       "      <td>Luxury</td>\n",
       "      <td>Delhi</td>\n",
       "    </tr>\n",
       "    <tr>\n",
       "      <th>4</th>\n",
       "      <td>16562</td>\n",
       "      <td>Atliq Bay</td>\n",
       "      <td>Luxury</td>\n",
       "      <td>Delhi</td>\n",
       "    </tr>\n",
       "  </tbody>\n",
       "</table>\n",
       "</div>"
      ],
      "text/plain": [
       "   property_id  property_name  category    city\n",
       "0        16558   Atliq Grands    Luxury   Delhi\n",
       "1        16559  Atliq Exotica    Luxury  Mumbai\n",
       "2        16560     Atliq City  Business   Delhi\n",
       "3        16561      Atliq Blu    Luxury   Delhi\n",
       "4        16562      Atliq Bay    Luxury   Delhi"
      ]
     },
     "execution_count": 9,
     "metadata": {},
     "output_type": "execute_result"
    }
   ],
   "source": [
    "hotels_df.head()"
   ]
  },
  {
   "cell_type": "code",
   "execution_count": 10,
   "id": "48e1068b",
   "metadata": {},
   "outputs": [
    {
     "data": {
      "text/plain": [
       "property_id      0\n",
       "property_name    0\n",
       "category         0\n",
       "city             0\n",
       "dtype: int64"
      ]
     },
     "execution_count": 10,
     "metadata": {},
     "output_type": "execute_result"
    }
   ],
   "source": [
    "hotels_df.isnull().sum()"
   ]
  },
  {
   "cell_type": "code",
   "execution_count": 11,
   "id": "3a1a62e4",
   "metadata": {},
   "outputs": [
    {
     "data": {
      "text/plain": [
       "0"
      ]
     },
     "execution_count": 11,
     "metadata": {},
     "output_type": "execute_result"
    }
   ],
   "source": [
    "hotels_df.duplicated().sum()"
   ]
  },
  {
   "cell_type": "code",
   "execution_count": 12,
   "id": "2c657f20",
   "metadata": {},
   "outputs": [
    {
     "name": "stdout",
     "output_type": "stream",
     "text": [
      "<class 'pandas.core.frame.DataFrame'>\n",
      "RangeIndex: 25 entries, 0 to 24\n",
      "Data columns (total 4 columns):\n",
      " #   Column         Non-Null Count  Dtype \n",
      "---  ------         --------------  ----- \n",
      " 0   property_id    25 non-null     int64 \n",
      " 1   property_name  25 non-null     object\n",
      " 2   category       25 non-null     object\n",
      " 3   city           25 non-null     object\n",
      "dtypes: int64(1), object(3)\n",
      "memory usage: 932.0+ bytes\n"
     ]
    }
   ],
   "source": [
    "hotels_df.info()"
   ]
  },
  {
   "cell_type": "code",
   "execution_count": 13,
   "id": "a253466b",
   "metadata": {},
   "outputs": [
    {
     "data": {
      "text/html": [
       "<div>\n",
       "<style scoped>\n",
       "    .dataframe tbody tr th:only-of-type {\n",
       "        vertical-align: middle;\n",
       "    }\n",
       "\n",
       "    .dataframe tbody tr th {\n",
       "        vertical-align: top;\n",
       "    }\n",
       "\n",
       "    .dataframe thead th {\n",
       "        text-align: right;\n",
       "    }\n",
       "</style>\n",
       "<table border=\"1\" class=\"dataframe\">\n",
       "  <thead>\n",
       "    <tr style=\"text-align: right;\">\n",
       "      <th></th>\n",
       "      <th>room_id</th>\n",
       "      <th>room_class</th>\n",
       "    </tr>\n",
       "  </thead>\n",
       "  <tbody>\n",
       "    <tr>\n",
       "      <th>0</th>\n",
       "      <td>RT1</td>\n",
       "      <td>Standard</td>\n",
       "    </tr>\n",
       "    <tr>\n",
       "      <th>1</th>\n",
       "      <td>RT2</td>\n",
       "      <td>Elite</td>\n",
       "    </tr>\n",
       "    <tr>\n",
       "      <th>2</th>\n",
       "      <td>RT3</td>\n",
       "      <td>Premium</td>\n",
       "    </tr>\n",
       "    <tr>\n",
       "      <th>3</th>\n",
       "      <td>RT4</td>\n",
       "      <td>Presidential</td>\n",
       "    </tr>\n",
       "  </tbody>\n",
       "</table>\n",
       "</div>"
      ],
      "text/plain": [
       "  room_id    room_class\n",
       "0     RT1      Standard\n",
       "1     RT2         Elite\n",
       "2     RT3       Premium\n",
       "3     RT4  Presidential"
      ]
     },
     "execution_count": 13,
     "metadata": {},
     "output_type": "execute_result"
    }
   ],
   "source": [
    "rooms_df.head()"
   ]
  },
  {
   "cell_type": "code",
   "execution_count": 14,
   "id": "ab0dcd60",
   "metadata": {},
   "outputs": [
    {
     "data": {
      "text/plain": [
       "room_id       0\n",
       "room_class    0\n",
       "dtype: int64"
      ]
     },
     "execution_count": 14,
     "metadata": {},
     "output_type": "execute_result"
    }
   ],
   "source": [
    "rooms_df.isnull().sum()"
   ]
  },
  {
   "cell_type": "code",
   "execution_count": 15,
   "id": "59b629bc",
   "metadata": {},
   "outputs": [
    {
     "data": {
      "text/plain": [
       "0"
      ]
     },
     "execution_count": 15,
     "metadata": {},
     "output_type": "execute_result"
    }
   ],
   "source": [
    "rooms_df.duplicated().sum()"
   ]
  },
  {
   "cell_type": "code",
   "execution_count": 16,
   "id": "7121abde",
   "metadata": {},
   "outputs": [
    {
     "name": "stdout",
     "output_type": "stream",
     "text": [
      "<class 'pandas.core.frame.DataFrame'>\n",
      "RangeIndex: 4 entries, 0 to 3\n",
      "Data columns (total 2 columns):\n",
      " #   Column      Non-Null Count  Dtype \n",
      "---  ------      --------------  ----- \n",
      " 0   room_id     4 non-null      object\n",
      " 1   room_class  4 non-null      object\n",
      "dtypes: object(2)\n",
      "memory usage: 196.0+ bytes\n"
     ]
    }
   ],
   "source": [
    "rooms_df.info()"
   ]
  },
  {
   "cell_type": "code",
   "execution_count": 17,
   "id": "d26def7a",
   "metadata": {},
   "outputs": [
    {
     "data": {
      "text/html": [
       "<div>\n",
       "<style scoped>\n",
       "    .dataframe tbody tr th:only-of-type {\n",
       "        vertical-align: middle;\n",
       "    }\n",
       "\n",
       "    .dataframe tbody tr th {\n",
       "        vertical-align: top;\n",
       "    }\n",
       "\n",
       "    .dataframe thead th {\n",
       "        text-align: right;\n",
       "    }\n",
       "</style>\n",
       "<table border=\"1\" class=\"dataframe\">\n",
       "  <thead>\n",
       "    <tr style=\"text-align: right;\">\n",
       "      <th></th>\n",
       "      <th>property_id</th>\n",
       "      <th>check_in_date</th>\n",
       "      <th>room_category</th>\n",
       "      <th>successful_bookings</th>\n",
       "      <th>capacity</th>\n",
       "    </tr>\n",
       "  </thead>\n",
       "  <tbody>\n",
       "    <tr>\n",
       "      <th>0</th>\n",
       "      <td>16559</td>\n",
       "      <td>01-May-22</td>\n",
       "      <td>RT1</td>\n",
       "      <td>25</td>\n",
       "      <td>30</td>\n",
       "    </tr>\n",
       "    <tr>\n",
       "      <th>1</th>\n",
       "      <td>19562</td>\n",
       "      <td>01-May-22</td>\n",
       "      <td>RT1</td>\n",
       "      <td>28</td>\n",
       "      <td>30</td>\n",
       "    </tr>\n",
       "    <tr>\n",
       "      <th>2</th>\n",
       "      <td>19563</td>\n",
       "      <td>01-May-22</td>\n",
       "      <td>RT1</td>\n",
       "      <td>23</td>\n",
       "      <td>30</td>\n",
       "    </tr>\n",
       "    <tr>\n",
       "      <th>3</th>\n",
       "      <td>17558</td>\n",
       "      <td>01-May-22</td>\n",
       "      <td>RT1</td>\n",
       "      <td>13</td>\n",
       "      <td>19</td>\n",
       "    </tr>\n",
       "    <tr>\n",
       "      <th>4</th>\n",
       "      <td>16558</td>\n",
       "      <td>01-May-22</td>\n",
       "      <td>RT1</td>\n",
       "      <td>18</td>\n",
       "      <td>19</td>\n",
       "    </tr>\n",
       "  </tbody>\n",
       "</table>\n",
       "</div>"
      ],
      "text/plain": [
       "   property_id check_in_date room_category  successful_bookings  capacity\n",
       "0        16559     01-May-22           RT1                   25        30\n",
       "1        19562     01-May-22           RT1                   28        30\n",
       "2        19563     01-May-22           RT1                   23        30\n",
       "3        17558     01-May-22           RT1                   13        19\n",
       "4        16558     01-May-22           RT1                   18        19"
      ]
     },
     "execution_count": 17,
     "metadata": {},
     "output_type": "execute_result"
    }
   ],
   "source": [
    "fact_agg_bookings.head()"
   ]
  },
  {
   "cell_type": "code",
   "execution_count": 18,
   "id": "89025437",
   "metadata": {},
   "outputs": [
    {
     "data": {
      "text/plain": [
       "property_id            0\n",
       "check_in_date          0\n",
       "room_category          0\n",
       "successful_bookings    0\n",
       "capacity               0\n",
       "dtype: int64"
      ]
     },
     "execution_count": 18,
     "metadata": {},
     "output_type": "execute_result"
    }
   ],
   "source": [
    "fact_agg_bookings.isnull().sum()"
   ]
  },
  {
   "cell_type": "code",
   "execution_count": 19,
   "id": "e630c2bb",
   "metadata": {},
   "outputs": [
    {
     "data": {
      "text/plain": [
       "0"
      ]
     },
     "execution_count": 19,
     "metadata": {},
     "output_type": "execute_result"
    }
   ],
   "source": [
    "fact_agg_bookings.duplicated().sum()"
   ]
  },
  {
   "cell_type": "code",
   "execution_count": 20,
   "id": "c17276f2",
   "metadata": {},
   "outputs": [
    {
     "data": {
      "text/html": [
       "<div>\n",
       "<style scoped>\n",
       "    .dataframe tbody tr th:only-of-type {\n",
       "        vertical-align: middle;\n",
       "    }\n",
       "\n",
       "    .dataframe tbody tr th {\n",
       "        vertical-align: top;\n",
       "    }\n",
       "\n",
       "    .dataframe thead th {\n",
       "        text-align: right;\n",
       "    }\n",
       "</style>\n",
       "<table border=\"1\" class=\"dataframe\">\n",
       "  <thead>\n",
       "    <tr style=\"text-align: right;\">\n",
       "      <th></th>\n",
       "      <th>booking_id</th>\n",
       "      <th>property_id</th>\n",
       "      <th>booking_date</th>\n",
       "      <th>check_in_date</th>\n",
       "      <th>checkout_date</th>\n",
       "      <th>no_guests</th>\n",
       "      <th>room_category</th>\n",
       "      <th>booking_platform</th>\n",
       "      <th>ratings_given</th>\n",
       "      <th>booking_status</th>\n",
       "      <th>revenue_generated</th>\n",
       "      <th>revenue_realized</th>\n",
       "    </tr>\n",
       "  </thead>\n",
       "  <tbody>\n",
       "    <tr>\n",
       "      <th>0</th>\n",
       "      <td>May012216558RT11</td>\n",
       "      <td>16558</td>\n",
       "      <td>2022-04-27</td>\n",
       "      <td>2022-05-01</td>\n",
       "      <td>2022-05-02</td>\n",
       "      <td>3</td>\n",
       "      <td>RT1</td>\n",
       "      <td>direct online</td>\n",
       "      <td>1.0</td>\n",
       "      <td>Checked Out</td>\n",
       "      <td>10010</td>\n",
       "      <td>10010</td>\n",
       "    </tr>\n",
       "    <tr>\n",
       "      <th>1</th>\n",
       "      <td>May012216558RT12</td>\n",
       "      <td>16558</td>\n",
       "      <td>2022-04-30</td>\n",
       "      <td>2022-05-01</td>\n",
       "      <td>2022-05-02</td>\n",
       "      <td>2</td>\n",
       "      <td>RT1</td>\n",
       "      <td>others</td>\n",
       "      <td>NaN</td>\n",
       "      <td>Cancelled</td>\n",
       "      <td>9100</td>\n",
       "      <td>3640</td>\n",
       "    </tr>\n",
       "    <tr>\n",
       "      <th>2</th>\n",
       "      <td>May012216558RT13</td>\n",
       "      <td>16558</td>\n",
       "      <td>2022-04-28</td>\n",
       "      <td>2022-05-01</td>\n",
       "      <td>2022-05-04</td>\n",
       "      <td>2</td>\n",
       "      <td>RT1</td>\n",
       "      <td>logtrip</td>\n",
       "      <td>5.0</td>\n",
       "      <td>Checked Out</td>\n",
       "      <td>9100</td>\n",
       "      <td>9100</td>\n",
       "    </tr>\n",
       "    <tr>\n",
       "      <th>3</th>\n",
       "      <td>May012216558RT14</td>\n",
       "      <td>16558</td>\n",
       "      <td>2022-04-28</td>\n",
       "      <td>2022-05-01</td>\n",
       "      <td>2022-05-02</td>\n",
       "      <td>2</td>\n",
       "      <td>RT1</td>\n",
       "      <td>others</td>\n",
       "      <td>NaN</td>\n",
       "      <td>Cancelled</td>\n",
       "      <td>9100</td>\n",
       "      <td>3640</td>\n",
       "    </tr>\n",
       "    <tr>\n",
       "      <th>4</th>\n",
       "      <td>May012216558RT15</td>\n",
       "      <td>16558</td>\n",
       "      <td>2022-04-27</td>\n",
       "      <td>2022-05-01</td>\n",
       "      <td>2022-05-02</td>\n",
       "      <td>4</td>\n",
       "      <td>RT1</td>\n",
       "      <td>direct online</td>\n",
       "      <td>5.0</td>\n",
       "      <td>Checked Out</td>\n",
       "      <td>10920</td>\n",
       "      <td>10920</td>\n",
       "    </tr>\n",
       "  </tbody>\n",
       "</table>\n",
       "</div>"
      ],
      "text/plain": [
       "         booking_id  property_id booking_date check_in_date checkout_date  \\\n",
       "0  May012216558RT11        16558   2022-04-27    2022-05-01    2022-05-02   \n",
       "1  May012216558RT12        16558   2022-04-30    2022-05-01    2022-05-02   \n",
       "2  May012216558RT13        16558   2022-04-28    2022-05-01    2022-05-04   \n",
       "3  May012216558RT14        16558   2022-04-28    2022-05-01    2022-05-02   \n",
       "4  May012216558RT15        16558   2022-04-27    2022-05-01    2022-05-02   \n",
       "\n",
       "   no_guests room_category booking_platform  ratings_given booking_status  \\\n",
       "0          3           RT1    direct online            1.0    Checked Out   \n",
       "1          2           RT1           others            NaN      Cancelled   \n",
       "2          2           RT1          logtrip            5.0    Checked Out   \n",
       "3          2           RT1           others            NaN      Cancelled   \n",
       "4          4           RT1    direct online            5.0    Checked Out   \n",
       "\n",
       "   revenue_generated  revenue_realized  \n",
       "0              10010             10010  \n",
       "1               9100              3640  \n",
       "2               9100              9100  \n",
       "3               9100              3640  \n",
       "4              10920             10920  "
      ]
     },
     "execution_count": 20,
     "metadata": {},
     "output_type": "execute_result"
    }
   ],
   "source": [
    "fact_bookings.head()"
   ]
  },
  {
   "cell_type": "code",
   "execution_count": 21,
   "id": "cbe56af5",
   "metadata": {},
   "outputs": [
    {
     "name": "stdout",
     "output_type": "stream",
     "text": [
      "<class 'pandas.core.frame.DataFrame'>\n",
      "RangeIndex: 9200 entries, 0 to 9199\n",
      "Data columns (total 5 columns):\n",
      " #   Column               Non-Null Count  Dtype \n",
      "---  ------               --------------  ----- \n",
      " 0   property_id          9200 non-null   int64 \n",
      " 1   check_in_date        9200 non-null   object\n",
      " 2   room_category        9200 non-null   object\n",
      " 3   successful_bookings  9200 non-null   int64 \n",
      " 4   capacity             9200 non-null   int64 \n",
      "dtypes: int64(3), object(2)\n",
      "memory usage: 359.5+ KB\n"
     ]
    }
   ],
   "source": [
    "fact_agg_bookings.info()"
   ]
  },
  {
   "cell_type": "code",
   "execution_count": 22,
   "id": "d0e6302b",
   "metadata": {},
   "outputs": [
    {
     "data": {
      "text/plain": [
       "0"
      ]
     },
     "execution_count": 22,
     "metadata": {},
     "output_type": "execute_result"
    }
   ],
   "source": [
    "fact_bookings.duplicated().sum()"
   ]
  },
  {
   "cell_type": "code",
   "execution_count": 23,
   "id": "e38613ae",
   "metadata": {},
   "outputs": [
    {
     "data": {
      "text/plain": [
       "booking_id               0\n",
       "property_id              0\n",
       "booking_date             0\n",
       "check_in_date            0\n",
       "checkout_date            0\n",
       "no_guests                0\n",
       "room_category            0\n",
       "booking_platform         0\n",
       "ratings_given        77907\n",
       "booking_status           0\n",
       "revenue_generated        0\n",
       "revenue_realized         0\n",
       "dtype: int64"
      ]
     },
     "execution_count": 23,
     "metadata": {},
     "output_type": "execute_result"
    }
   ],
   "source": [
    "fact_bookings.isnull().sum() # there are 77907 null values for ratings_given column"
   ]
  },
  {
   "cell_type": "code",
   "execution_count": 24,
   "id": "95729feb",
   "metadata": {},
   "outputs": [
    {
     "data": {
      "text/plain": [
       "(134590, 12)"
      ]
     },
     "execution_count": 24,
     "metadata": {},
     "output_type": "execute_result"
    }
   ],
   "source": [
    "fact_bookings.shape"
   ]
  },
  {
   "cell_type": "code",
   "execution_count": 25,
   "id": "249a531b",
   "metadata": {},
   "outputs": [],
   "source": [
    "mean_ratings = fact_bookings['ratings_given'].mean()\n",
    "fact_bookings['ratings_given'].fillna(mean_ratings,inplace=True)\n",
    "fact_bookings['ratings_given'] = fact_bookings['ratings_given'].astype('int64')"
   ]
  },
  {
   "cell_type": "code",
   "execution_count": 26,
   "id": "bb3f8b28",
   "metadata": {},
   "outputs": [
    {
     "data": {
      "text/plain": [
       "booking_id           0\n",
       "property_id          0\n",
       "booking_date         0\n",
       "check_in_date        0\n",
       "checkout_date        0\n",
       "no_guests            0\n",
       "room_category        0\n",
       "booking_platform     0\n",
       "ratings_given        0\n",
       "booking_status       0\n",
       "revenue_generated    0\n",
       "revenue_realized     0\n",
       "dtype: int64"
      ]
     },
     "execution_count": 26,
     "metadata": {},
     "output_type": "execute_result"
    }
   ],
   "source": [
    "fact_bookings.isnull().sum() #NO NULL VALUES"
   ]
  },
  {
   "cell_type": "code",
   "execution_count": 27,
   "id": "000f8aac",
   "metadata": {},
   "outputs": [
    {
     "name": "stdout",
     "output_type": "stream",
     "text": [
      "<class 'pandas.core.frame.DataFrame'>\n",
      "RangeIndex: 134590 entries, 0 to 134589\n",
      "Data columns (total 12 columns):\n",
      " #   Column             Non-Null Count   Dtype \n",
      "---  ------             --------------   ----- \n",
      " 0   booking_id         134590 non-null  object\n",
      " 1   property_id        134590 non-null  int64 \n",
      " 2   booking_date       134590 non-null  object\n",
      " 3   check_in_date      134590 non-null  object\n",
      " 4   checkout_date      134590 non-null  object\n",
      " 5   no_guests          134590 non-null  int64 \n",
      " 6   room_category      134590 non-null  object\n",
      " 7   booking_platform   134590 non-null  object\n",
      " 8   ratings_given      134590 non-null  int64 \n",
      " 9   booking_status     134590 non-null  object\n",
      " 10  revenue_generated  134590 non-null  int64 \n",
      " 11  revenue_realized   134590 non-null  int64 \n",
      "dtypes: int64(5), object(7)\n",
      "memory usage: 12.3+ MB\n"
     ]
    }
   ],
   "source": [
    "fact_bookings.info()"
   ]
  },
  {
   "cell_type": "code",
   "execution_count": 28,
   "id": "59c8c77c",
   "metadata": {},
   "outputs": [
    {
     "data": {
      "text/plain": [
       "(134590, 12)"
      ]
     },
     "execution_count": 28,
     "metadata": {},
     "output_type": "execute_result"
    }
   ],
   "source": [
    "fact_bookings.shape"
   ]
  },
  {
   "cell_type": "code",
   "execution_count": 29,
   "id": "17d1252a",
   "metadata": {},
   "outputs": [],
   "source": [
    "#fact_bookings.drop(['booking_id'],axis=1,inplace=True)"
   ]
  },
  {
   "cell_type": "code",
   "execution_count": 30,
   "id": "131d8fac",
   "metadata": {},
   "outputs": [],
   "source": [
    "fact_bookings['room_category'] = fact_bookings['room_category'].replace({\n",
    "    'RT1': 'Standard',\n",
    "    'RT2': 'Elite',\n",
    "    'RT3': 'Premium',\n",
    "    'RT4': 'Presidential'\n",
    "})"
   ]
  },
  {
   "cell_type": "code",
   "execution_count": 31,
   "id": "797101e6",
   "metadata": {},
   "outputs": [
    {
     "name": "stdout",
     "output_type": "stream",
     "text": [
      "<class 'pandas.core.frame.DataFrame'>\n",
      "RangeIndex: 134590 entries, 0 to 134589\n",
      "Data columns (total 12 columns):\n",
      " #   Column             Non-Null Count   Dtype \n",
      "---  ------             --------------   ----- \n",
      " 0   booking_id         134590 non-null  object\n",
      " 1   property_id        134590 non-null  int64 \n",
      " 2   booking_date       134590 non-null  object\n",
      " 3   check_in_date      134590 non-null  object\n",
      " 4   checkout_date      134590 non-null  object\n",
      " 5   no_guests          134590 non-null  int64 \n",
      " 6   room_category      134590 non-null  object\n",
      " 7   booking_platform   134590 non-null  object\n",
      " 8   ratings_given      134590 non-null  int64 \n",
      " 9   booking_status     134590 non-null  object\n",
      " 10  revenue_generated  134590 non-null  int64 \n",
      " 11  revenue_realized   134590 non-null  int64 \n",
      "dtypes: int64(5), object(7)\n",
      "memory usage: 12.3+ MB\n"
     ]
    }
   ],
   "source": [
    "fact_bookings.info()"
   ]
  },
  {
   "cell_type": "code",
   "execution_count": 32,
   "id": "fb8fc046",
   "metadata": {},
   "outputs": [
    {
     "name": "stdout",
     "output_type": "stream",
     "text": [
      "<class 'pandas.core.frame.DataFrame'>\n",
      "RangeIndex: 134590 entries, 0 to 134589\n",
      "Data columns (total 12 columns):\n",
      " #   Column             Non-Null Count   Dtype         \n",
      "---  ------             --------------   -----         \n",
      " 0   booking_id         134590 non-null  object        \n",
      " 1   property_id        134590 non-null  int64         \n",
      " 2   booking_date       134590 non-null  object        \n",
      " 3   check_in_date      134590 non-null  datetime64[ns]\n",
      " 4   checkout_date      134590 non-null  datetime64[ns]\n",
      " 5   no_guests          134590 non-null  int64         \n",
      " 6   room_category      134590 non-null  object        \n",
      " 7   booking_platform   134590 non-null  object        \n",
      " 8   ratings_given      134590 non-null  int64         \n",
      " 9   booking_status     134590 non-null  object        \n",
      " 10  revenue_generated  134590 non-null  int64         \n",
      " 11  revenue_realized   134590 non-null  int64         \n",
      "dtypes: datetime64[ns](2), int64(5), object(5)\n",
      "memory usage: 12.3+ MB\n"
     ]
    }
   ],
   "source": [
    "fact_bookings['check_in_date'] = pd.to_datetime(fact_bookings['check_in_date'])\n",
    "fact_bookings['checkout_date'] = pd.to_datetime(fact_bookings['checkout_date'])\n",
    "fact_bookings.info()"
   ]
  },
  {
   "cell_type": "code",
   "execution_count": 33,
   "id": "a085515a",
   "metadata": {},
   "outputs": [
    {
     "data": {
      "text/html": [
       "<div>\n",
       "<style scoped>\n",
       "    .dataframe tbody tr th:only-of-type {\n",
       "        vertical-align: middle;\n",
       "    }\n",
       "\n",
       "    .dataframe tbody tr th {\n",
       "        vertical-align: top;\n",
       "    }\n",
       "\n",
       "    .dataframe thead th {\n",
       "        text-align: right;\n",
       "    }\n",
       "</style>\n",
       "<table border=\"1\" class=\"dataframe\">\n",
       "  <thead>\n",
       "    <tr style=\"text-align: right;\">\n",
       "      <th></th>\n",
       "      <th>property_id</th>\n",
       "      <th>check_in_date</th>\n",
       "      <th>room_category</th>\n",
       "      <th>successful_bookings</th>\n",
       "      <th>capacity</th>\n",
       "      <th>occupancy_percent</th>\n",
       "    </tr>\n",
       "  </thead>\n",
       "  <tbody>\n",
       "    <tr>\n",
       "      <th>0</th>\n",
       "      <td>16559</td>\n",
       "      <td>01-May-22</td>\n",
       "      <td>RT1</td>\n",
       "      <td>25</td>\n",
       "      <td>30</td>\n",
       "      <td>83.33</td>\n",
       "    </tr>\n",
       "    <tr>\n",
       "      <th>1</th>\n",
       "      <td>19562</td>\n",
       "      <td>01-May-22</td>\n",
       "      <td>RT1</td>\n",
       "      <td>28</td>\n",
       "      <td>30</td>\n",
       "      <td>93.33</td>\n",
       "    </tr>\n",
       "    <tr>\n",
       "      <th>2</th>\n",
       "      <td>19563</td>\n",
       "      <td>01-May-22</td>\n",
       "      <td>RT1</td>\n",
       "      <td>23</td>\n",
       "      <td>30</td>\n",
       "      <td>76.67</td>\n",
       "    </tr>\n",
       "    <tr>\n",
       "      <th>3</th>\n",
       "      <td>17558</td>\n",
       "      <td>01-May-22</td>\n",
       "      <td>RT1</td>\n",
       "      <td>13</td>\n",
       "      <td>19</td>\n",
       "      <td>68.42</td>\n",
       "    </tr>\n",
       "    <tr>\n",
       "      <th>4</th>\n",
       "      <td>16558</td>\n",
       "      <td>01-May-22</td>\n",
       "      <td>RT1</td>\n",
       "      <td>18</td>\n",
       "      <td>19</td>\n",
       "      <td>94.74</td>\n",
       "    </tr>\n",
       "    <tr>\n",
       "      <th>...</th>\n",
       "      <td>...</td>\n",
       "      <td>...</td>\n",
       "      <td>...</td>\n",
       "      <td>...</td>\n",
       "      <td>...</td>\n",
       "      <td>...</td>\n",
       "    </tr>\n",
       "    <tr>\n",
       "      <th>9195</th>\n",
       "      <td>16563</td>\n",
       "      <td>31-Jul-22</td>\n",
       "      <td>RT4</td>\n",
       "      <td>13</td>\n",
       "      <td>18</td>\n",
       "      <td>72.22</td>\n",
       "    </tr>\n",
       "    <tr>\n",
       "      <th>9196</th>\n",
       "      <td>16559</td>\n",
       "      <td>31-Jul-22</td>\n",
       "      <td>RT4</td>\n",
       "      <td>13</td>\n",
       "      <td>18</td>\n",
       "      <td>72.22</td>\n",
       "    </tr>\n",
       "    <tr>\n",
       "      <th>9197</th>\n",
       "      <td>17558</td>\n",
       "      <td>31-Jul-22</td>\n",
       "      <td>RT4</td>\n",
       "      <td>3</td>\n",
       "      <td>6</td>\n",
       "      <td>50.00</td>\n",
       "    </tr>\n",
       "    <tr>\n",
       "      <th>9198</th>\n",
       "      <td>19563</td>\n",
       "      <td>31-Jul-22</td>\n",
       "      <td>RT4</td>\n",
       "      <td>3</td>\n",
       "      <td>6</td>\n",
       "      <td>50.00</td>\n",
       "    </tr>\n",
       "    <tr>\n",
       "      <th>9199</th>\n",
       "      <td>17561</td>\n",
       "      <td>31-Jul-22</td>\n",
       "      <td>RT4</td>\n",
       "      <td>3</td>\n",
       "      <td>4</td>\n",
       "      <td>75.00</td>\n",
       "    </tr>\n",
       "  </tbody>\n",
       "</table>\n",
       "<p>9200 rows × 6 columns</p>\n",
       "</div>"
      ],
      "text/plain": [
       "      property_id check_in_date room_category  successful_bookings  capacity  \\\n",
       "0           16559     01-May-22           RT1                   25        30   \n",
       "1           19562     01-May-22           RT1                   28        30   \n",
       "2           19563     01-May-22           RT1                   23        30   \n",
       "3           17558     01-May-22           RT1                   13        19   \n",
       "4           16558     01-May-22           RT1                   18        19   \n",
       "...           ...           ...           ...                  ...       ...   \n",
       "9195        16563     31-Jul-22           RT4                   13        18   \n",
       "9196        16559     31-Jul-22           RT4                   13        18   \n",
       "9197        17558     31-Jul-22           RT4                    3         6   \n",
       "9198        19563     31-Jul-22           RT4                    3         6   \n",
       "9199        17561     31-Jul-22           RT4                    3         4   \n",
       "\n",
       "      occupancy_percent  \n",
       "0                 83.33  \n",
       "1                 93.33  \n",
       "2                 76.67  \n",
       "3                 68.42  \n",
       "4                 94.74  \n",
       "...                 ...  \n",
       "9195              72.22  \n",
       "9196              72.22  \n",
       "9197              50.00  \n",
       "9198              50.00  \n",
       "9199              75.00  \n",
       "\n",
       "[9200 rows x 6 columns]"
      ]
     },
     "execution_count": 33,
     "metadata": {},
     "output_type": "execute_result"
    }
   ],
   "source": [
    "fact_agg_bookings['occupancy_percent'] = ((fact_agg_bookings['successful_bookings'] / fact_agg_bookings['capacity']) * 100).round(2)\n",
    "fact_agg_bookings"
   ]
  },
  {
   "cell_type": "code",
   "execution_count": 34,
   "id": "efa858d1",
   "metadata": {},
   "outputs": [],
   "source": [
    "fact_agg_bookings.drop(['check_in_date','room_category'],axis=1,inplace=True)"
   ]
  },
  {
   "cell_type": "code",
   "execution_count": 35,
   "id": "8be1360c",
   "metadata": {},
   "outputs": [
    {
     "data": {
      "text/plain": [
       "(134590, 12)"
      ]
     },
     "execution_count": 35,
     "metadata": {},
     "output_type": "execute_result"
    }
   ],
   "source": [
    "fact_bookings.drop_duplicates(inplace=True)\n",
    "fact_bookings.shape"
   ]
  },
  {
   "cell_type": "code",
   "execution_count": 36,
   "id": "bfd9ef56",
   "metadata": {},
   "outputs": [
    {
     "data": {
      "text/html": [
       "<div>\n",
       "<style scoped>\n",
       "    .dataframe tbody tr th:only-of-type {\n",
       "        vertical-align: middle;\n",
       "    }\n",
       "\n",
       "    .dataframe tbody tr th {\n",
       "        vertical-align: top;\n",
       "    }\n",
       "\n",
       "    .dataframe thead th {\n",
       "        text-align: right;\n",
       "    }\n",
       "</style>\n",
       "<table border=\"1\" class=\"dataframe\">\n",
       "  <thead>\n",
       "    <tr style=\"text-align: right;\">\n",
       "      <th></th>\n",
       "      <th>date</th>\n",
       "      <th>week no</th>\n",
       "      <th>day_type</th>\n",
       "    </tr>\n",
       "  </thead>\n",
       "  <tbody>\n",
       "    <tr>\n",
       "      <th>0</th>\n",
       "      <td>2022-05-01</td>\n",
       "      <td>W 19</td>\n",
       "      <td>weekend</td>\n",
       "    </tr>\n",
       "    <tr>\n",
       "      <th>1</th>\n",
       "      <td>2022-05-02</td>\n",
       "      <td>W 19</td>\n",
       "      <td>weekeday</td>\n",
       "    </tr>\n",
       "    <tr>\n",
       "      <th>2</th>\n",
       "      <td>2022-05-03</td>\n",
       "      <td>W 19</td>\n",
       "      <td>weekeday</td>\n",
       "    </tr>\n",
       "    <tr>\n",
       "      <th>3</th>\n",
       "      <td>2022-05-04</td>\n",
       "      <td>W 19</td>\n",
       "      <td>weekeday</td>\n",
       "    </tr>\n",
       "    <tr>\n",
       "      <th>4</th>\n",
       "      <td>2022-05-05</td>\n",
       "      <td>W 19</td>\n",
       "      <td>weekeday</td>\n",
       "    </tr>\n",
       "    <tr>\n",
       "      <th>...</th>\n",
       "      <td>...</td>\n",
       "      <td>...</td>\n",
       "      <td>...</td>\n",
       "    </tr>\n",
       "    <tr>\n",
       "      <th>87</th>\n",
       "      <td>2022-07-27</td>\n",
       "      <td>W 31</td>\n",
       "      <td>weekeday</td>\n",
       "    </tr>\n",
       "    <tr>\n",
       "      <th>88</th>\n",
       "      <td>2022-07-28</td>\n",
       "      <td>W 31</td>\n",
       "      <td>weekeday</td>\n",
       "    </tr>\n",
       "    <tr>\n",
       "      <th>89</th>\n",
       "      <td>2022-07-29</td>\n",
       "      <td>W 31</td>\n",
       "      <td>weekeday</td>\n",
       "    </tr>\n",
       "    <tr>\n",
       "      <th>90</th>\n",
       "      <td>2022-07-30</td>\n",
       "      <td>W 31</td>\n",
       "      <td>weekend</td>\n",
       "    </tr>\n",
       "    <tr>\n",
       "      <th>91</th>\n",
       "      <td>2022-07-31</td>\n",
       "      <td>W 32</td>\n",
       "      <td>weekend</td>\n",
       "    </tr>\n",
       "  </tbody>\n",
       "</table>\n",
       "<p>92 rows × 3 columns</p>\n",
       "</div>"
      ],
      "text/plain": [
       "         date week no  day_type\n",
       "0  2022-05-01    W 19   weekend\n",
       "1  2022-05-02    W 19  weekeday\n",
       "2  2022-05-03    W 19  weekeday\n",
       "3  2022-05-04    W 19  weekeday\n",
       "4  2022-05-05    W 19  weekeday\n",
       "..        ...     ...       ...\n",
       "87 2022-07-27    W 31  weekeday\n",
       "88 2022-07-28    W 31  weekeday\n",
       "89 2022-07-29    W 31  weekeday\n",
       "90 2022-07-30    W 31   weekend\n",
       "91 2022-07-31    W 32   weekend\n",
       "\n",
       "[92 rows x 3 columns]"
      ]
     },
     "execution_count": 36,
     "metadata": {},
     "output_type": "execute_result"
    }
   ],
   "source": [
    "date_df"
   ]
  },
  {
   "cell_type": "code",
   "execution_count": null,
   "id": "82ae60eb",
   "metadata": {},
   "outputs": [],
   "source": []
  },
  {
   "cell_type": "code",
   "execution_count": 37,
   "id": "a88b830f",
   "metadata": {},
   "outputs": [
    {
     "data": {
      "text/html": [
       "<div>\n",
       "<style scoped>\n",
       "    .dataframe tbody tr th:only-of-type {\n",
       "        vertical-align: middle;\n",
       "    }\n",
       "\n",
       "    .dataframe tbody tr th {\n",
       "        vertical-align: top;\n",
       "    }\n",
       "\n",
       "    .dataframe thead th {\n",
       "        text-align: right;\n",
       "    }\n",
       "</style>\n",
       "<table border=\"1\" class=\"dataframe\">\n",
       "  <thead>\n",
       "    <tr style=\"text-align: right;\">\n",
       "      <th></th>\n",
       "      <th>booking_id</th>\n",
       "      <th>property_id</th>\n",
       "      <th>booking_date</th>\n",
       "      <th>check_in_date</th>\n",
       "      <th>checkout_date</th>\n",
       "      <th>no_guests</th>\n",
       "      <th>room_category</th>\n",
       "      <th>booking_platform</th>\n",
       "      <th>ratings_given</th>\n",
       "      <th>booking_status</th>\n",
       "      <th>revenue_generated</th>\n",
       "      <th>revenue_realized</th>\n",
       "      <th>date</th>\n",
       "      <th>week no</th>\n",
       "      <th>day_type</th>\n",
       "    </tr>\n",
       "  </thead>\n",
       "  <tbody>\n",
       "    <tr>\n",
       "      <th>0</th>\n",
       "      <td>May012216558RT11</td>\n",
       "      <td>16558</td>\n",
       "      <td>2022-04-27</td>\n",
       "      <td>2022-05-01</td>\n",
       "      <td>2022-05-02</td>\n",
       "      <td>3</td>\n",
       "      <td>Standard</td>\n",
       "      <td>direct online</td>\n",
       "      <td>1</td>\n",
       "      <td>Checked Out</td>\n",
       "      <td>10010</td>\n",
       "      <td>10010</td>\n",
       "      <td>2022-05-01</td>\n",
       "      <td>W 19</td>\n",
       "      <td>weekend</td>\n",
       "    </tr>\n",
       "    <tr>\n",
       "      <th>1</th>\n",
       "      <td>May012216558RT12</td>\n",
       "      <td>16558</td>\n",
       "      <td>2022-04-30</td>\n",
       "      <td>2022-05-01</td>\n",
       "      <td>2022-05-02</td>\n",
       "      <td>2</td>\n",
       "      <td>Standard</td>\n",
       "      <td>others</td>\n",
       "      <td>3</td>\n",
       "      <td>Cancelled</td>\n",
       "      <td>9100</td>\n",
       "      <td>3640</td>\n",
       "      <td>2022-05-01</td>\n",
       "      <td>W 19</td>\n",
       "      <td>weekend</td>\n",
       "    </tr>\n",
       "    <tr>\n",
       "      <th>2</th>\n",
       "      <td>May012216558RT13</td>\n",
       "      <td>16558</td>\n",
       "      <td>2022-04-28</td>\n",
       "      <td>2022-05-01</td>\n",
       "      <td>2022-05-04</td>\n",
       "      <td>2</td>\n",
       "      <td>Standard</td>\n",
       "      <td>logtrip</td>\n",
       "      <td>5</td>\n",
       "      <td>Checked Out</td>\n",
       "      <td>9100</td>\n",
       "      <td>9100</td>\n",
       "      <td>2022-05-01</td>\n",
       "      <td>W 19</td>\n",
       "      <td>weekend</td>\n",
       "    </tr>\n",
       "    <tr>\n",
       "      <th>3</th>\n",
       "      <td>May012216558RT14</td>\n",
       "      <td>16558</td>\n",
       "      <td>2022-04-28</td>\n",
       "      <td>2022-05-01</td>\n",
       "      <td>2022-05-02</td>\n",
       "      <td>2</td>\n",
       "      <td>Standard</td>\n",
       "      <td>others</td>\n",
       "      <td>3</td>\n",
       "      <td>Cancelled</td>\n",
       "      <td>9100</td>\n",
       "      <td>3640</td>\n",
       "      <td>2022-05-01</td>\n",
       "      <td>W 19</td>\n",
       "      <td>weekend</td>\n",
       "    </tr>\n",
       "    <tr>\n",
       "      <th>4</th>\n",
       "      <td>May012216558RT15</td>\n",
       "      <td>16558</td>\n",
       "      <td>2022-04-27</td>\n",
       "      <td>2022-05-01</td>\n",
       "      <td>2022-05-02</td>\n",
       "      <td>4</td>\n",
       "      <td>Standard</td>\n",
       "      <td>direct online</td>\n",
       "      <td>5</td>\n",
       "      <td>Checked Out</td>\n",
       "      <td>10920</td>\n",
       "      <td>10920</td>\n",
       "      <td>2022-05-01</td>\n",
       "      <td>W 19</td>\n",
       "      <td>weekend</td>\n",
       "    </tr>\n",
       "  </tbody>\n",
       "</table>\n",
       "</div>"
      ],
      "text/plain": [
       "         booking_id  property_id booking_date check_in_date checkout_date  \\\n",
       "0  May012216558RT11        16558   2022-04-27    2022-05-01    2022-05-02   \n",
       "1  May012216558RT12        16558   2022-04-30    2022-05-01    2022-05-02   \n",
       "2  May012216558RT13        16558   2022-04-28    2022-05-01    2022-05-04   \n",
       "3  May012216558RT14        16558   2022-04-28    2022-05-01    2022-05-02   \n",
       "4  May012216558RT15        16558   2022-04-27    2022-05-01    2022-05-02   \n",
       "\n",
       "   no_guests room_category booking_platform  ratings_given booking_status  \\\n",
       "0          3      Standard    direct online              1    Checked Out   \n",
       "1          2      Standard           others              3      Cancelled   \n",
       "2          2      Standard          logtrip              5    Checked Out   \n",
       "3          2      Standard           others              3      Cancelled   \n",
       "4          4      Standard    direct online              5    Checked Out   \n",
       "\n",
       "   revenue_generated  revenue_realized       date week no day_type  \n",
       "0              10010             10010 2022-05-01    W 19  weekend  \n",
       "1               9100              3640 2022-05-01    W 19  weekend  \n",
       "2               9100              9100 2022-05-01    W 19  weekend  \n",
       "3               9100              3640 2022-05-01    W 19  weekend  \n",
       "4              10920             10920 2022-05-01    W 19  weekend  "
      ]
     },
     "execution_count": 37,
     "metadata": {},
     "output_type": "execute_result"
    }
   ],
   "source": [
    "merged_df = pd.merge(fact_bookings,date_df,left_on='check_in_date', right_on='date', how='inner')\n",
    "merged_df.head()"
   ]
  },
  {
   "cell_type": "code",
   "execution_count": 38,
   "id": "49d14492",
   "metadata": {},
   "outputs": [
    {
     "data": {
      "text/html": [
       "<div>\n",
       "<style scoped>\n",
       "    .dataframe tbody tr th:only-of-type {\n",
       "        vertical-align: middle;\n",
       "    }\n",
       "\n",
       "    .dataframe tbody tr th {\n",
       "        vertical-align: top;\n",
       "    }\n",
       "\n",
       "    .dataframe thead th {\n",
       "        text-align: right;\n",
       "    }\n",
       "</style>\n",
       "<table border=\"1\" class=\"dataframe\">\n",
       "  <thead>\n",
       "    <tr style=\"text-align: right;\">\n",
       "      <th></th>\n",
       "      <th>booking_id</th>\n",
       "      <th>property_id</th>\n",
       "      <th>booking_date</th>\n",
       "      <th>check_in_date</th>\n",
       "      <th>checkout_date</th>\n",
       "      <th>no_guests</th>\n",
       "      <th>room_category</th>\n",
       "      <th>booking_platform</th>\n",
       "      <th>ratings_given</th>\n",
       "      <th>booking_status</th>\n",
       "      <th>revenue_generated</th>\n",
       "      <th>revenue_realized</th>\n",
       "      <th>date</th>\n",
       "      <th>week no</th>\n",
       "      <th>day_type</th>\n",
       "      <th>property_name</th>\n",
       "      <th>category</th>\n",
       "      <th>city</th>\n",
       "    </tr>\n",
       "  </thead>\n",
       "  <tbody>\n",
       "    <tr>\n",
       "      <th>0</th>\n",
       "      <td>May012216558RT11</td>\n",
       "      <td>16558</td>\n",
       "      <td>2022-04-27</td>\n",
       "      <td>2022-05-01</td>\n",
       "      <td>2022-05-02</td>\n",
       "      <td>3</td>\n",
       "      <td>Standard</td>\n",
       "      <td>direct online</td>\n",
       "      <td>1</td>\n",
       "      <td>Checked Out</td>\n",
       "      <td>10010</td>\n",
       "      <td>10010</td>\n",
       "      <td>2022-05-01</td>\n",
       "      <td>W 19</td>\n",
       "      <td>weekend</td>\n",
       "      <td>Atliq Grands</td>\n",
       "      <td>Luxury</td>\n",
       "      <td>Delhi</td>\n",
       "    </tr>\n",
       "    <tr>\n",
       "      <th>1</th>\n",
       "      <td>May012216558RT12</td>\n",
       "      <td>16558</td>\n",
       "      <td>2022-04-30</td>\n",
       "      <td>2022-05-01</td>\n",
       "      <td>2022-05-02</td>\n",
       "      <td>2</td>\n",
       "      <td>Standard</td>\n",
       "      <td>others</td>\n",
       "      <td>3</td>\n",
       "      <td>Cancelled</td>\n",
       "      <td>9100</td>\n",
       "      <td>3640</td>\n",
       "      <td>2022-05-01</td>\n",
       "      <td>W 19</td>\n",
       "      <td>weekend</td>\n",
       "      <td>Atliq Grands</td>\n",
       "      <td>Luxury</td>\n",
       "      <td>Delhi</td>\n",
       "    </tr>\n",
       "    <tr>\n",
       "      <th>2</th>\n",
       "      <td>May012216558RT13</td>\n",
       "      <td>16558</td>\n",
       "      <td>2022-04-28</td>\n",
       "      <td>2022-05-01</td>\n",
       "      <td>2022-05-04</td>\n",
       "      <td>2</td>\n",
       "      <td>Standard</td>\n",
       "      <td>logtrip</td>\n",
       "      <td>5</td>\n",
       "      <td>Checked Out</td>\n",
       "      <td>9100</td>\n",
       "      <td>9100</td>\n",
       "      <td>2022-05-01</td>\n",
       "      <td>W 19</td>\n",
       "      <td>weekend</td>\n",
       "      <td>Atliq Grands</td>\n",
       "      <td>Luxury</td>\n",
       "      <td>Delhi</td>\n",
       "    </tr>\n",
       "    <tr>\n",
       "      <th>3</th>\n",
       "      <td>May012216558RT14</td>\n",
       "      <td>16558</td>\n",
       "      <td>2022-04-28</td>\n",
       "      <td>2022-05-01</td>\n",
       "      <td>2022-05-02</td>\n",
       "      <td>2</td>\n",
       "      <td>Standard</td>\n",
       "      <td>others</td>\n",
       "      <td>3</td>\n",
       "      <td>Cancelled</td>\n",
       "      <td>9100</td>\n",
       "      <td>3640</td>\n",
       "      <td>2022-05-01</td>\n",
       "      <td>W 19</td>\n",
       "      <td>weekend</td>\n",
       "      <td>Atliq Grands</td>\n",
       "      <td>Luxury</td>\n",
       "      <td>Delhi</td>\n",
       "    </tr>\n",
       "    <tr>\n",
       "      <th>4</th>\n",
       "      <td>May012216558RT15</td>\n",
       "      <td>16558</td>\n",
       "      <td>2022-04-27</td>\n",
       "      <td>2022-05-01</td>\n",
       "      <td>2022-05-02</td>\n",
       "      <td>4</td>\n",
       "      <td>Standard</td>\n",
       "      <td>direct online</td>\n",
       "      <td>5</td>\n",
       "      <td>Checked Out</td>\n",
       "      <td>10920</td>\n",
       "      <td>10920</td>\n",
       "      <td>2022-05-01</td>\n",
       "      <td>W 19</td>\n",
       "      <td>weekend</td>\n",
       "      <td>Atliq Grands</td>\n",
       "      <td>Luxury</td>\n",
       "      <td>Delhi</td>\n",
       "    </tr>\n",
       "  </tbody>\n",
       "</table>\n",
       "</div>"
      ],
      "text/plain": [
       "         booking_id  property_id booking_date check_in_date checkout_date  \\\n",
       "0  May012216558RT11        16558   2022-04-27    2022-05-01    2022-05-02   \n",
       "1  May012216558RT12        16558   2022-04-30    2022-05-01    2022-05-02   \n",
       "2  May012216558RT13        16558   2022-04-28    2022-05-01    2022-05-04   \n",
       "3  May012216558RT14        16558   2022-04-28    2022-05-01    2022-05-02   \n",
       "4  May012216558RT15        16558   2022-04-27    2022-05-01    2022-05-02   \n",
       "\n",
       "   no_guests room_category booking_platform  ratings_given booking_status  \\\n",
       "0          3      Standard    direct online              1    Checked Out   \n",
       "1          2      Standard           others              3      Cancelled   \n",
       "2          2      Standard          logtrip              5    Checked Out   \n",
       "3          2      Standard           others              3      Cancelled   \n",
       "4          4      Standard    direct online              5    Checked Out   \n",
       "\n",
       "   revenue_generated  revenue_realized       date week no day_type  \\\n",
       "0              10010             10010 2022-05-01    W 19  weekend   \n",
       "1               9100              3640 2022-05-01    W 19  weekend   \n",
       "2               9100              9100 2022-05-01    W 19  weekend   \n",
       "3               9100              3640 2022-05-01    W 19  weekend   \n",
       "4              10920             10920 2022-05-01    W 19  weekend   \n",
       "\n",
       "  property_name category   city  \n",
       "0  Atliq Grands   Luxury  Delhi  \n",
       "1  Atliq Grands   Luxury  Delhi  \n",
       "2  Atliq Grands   Luxury  Delhi  \n",
       "3  Atliq Grands   Luxury  Delhi  \n",
       "4  Atliq Grands   Luxury  Delhi  "
      ]
     },
     "execution_count": 38,
     "metadata": {},
     "output_type": "execute_result"
    }
   ],
   "source": [
    "merged_df = pd.merge(merged_df,hotels_df,on='property_id')\n",
    "merged_df.head()"
   ]
  },
  {
   "cell_type": "code",
   "execution_count": 39,
   "id": "61b58ad5",
   "metadata": {},
   "outputs": [
    {
     "data": {
      "text/html": [
       "<div>\n",
       "<style scoped>\n",
       "    .dataframe tbody tr th:only-of-type {\n",
       "        vertical-align: middle;\n",
       "    }\n",
       "\n",
       "    .dataframe tbody tr th {\n",
       "        vertical-align: top;\n",
       "    }\n",
       "\n",
       "    .dataframe thead th {\n",
       "        text-align: right;\n",
       "    }\n",
       "</style>\n",
       "<table border=\"1\" class=\"dataframe\">\n",
       "  <thead>\n",
       "    <tr style=\"text-align: right;\">\n",
       "      <th></th>\n",
       "      <th>booking_id</th>\n",
       "      <th>property_id</th>\n",
       "      <th>check_in_date</th>\n",
       "      <th>checkout_date</th>\n",
       "      <th>no_guests</th>\n",
       "      <th>room_category</th>\n",
       "      <th>booking_platform</th>\n",
       "      <th>ratings_given</th>\n",
       "      <th>booking_status</th>\n",
       "      <th>revenue_generated</th>\n",
       "      <th>revenue_realized</th>\n",
       "      <th>week no</th>\n",
       "      <th>day_type</th>\n",
       "      <th>property_name</th>\n",
       "      <th>category</th>\n",
       "      <th>city</th>\n",
       "    </tr>\n",
       "  </thead>\n",
       "  <tbody>\n",
       "    <tr>\n",
       "      <th>0</th>\n",
       "      <td>May012216558RT11</td>\n",
       "      <td>16558</td>\n",
       "      <td>2022-05-01</td>\n",
       "      <td>2022-05-02</td>\n",
       "      <td>3</td>\n",
       "      <td>Standard</td>\n",
       "      <td>direct online</td>\n",
       "      <td>1</td>\n",
       "      <td>Checked Out</td>\n",
       "      <td>10010</td>\n",
       "      <td>10010</td>\n",
       "      <td>W 19</td>\n",
       "      <td>weekend</td>\n",
       "      <td>Atliq Grands</td>\n",
       "      <td>Luxury</td>\n",
       "      <td>Delhi</td>\n",
       "    </tr>\n",
       "    <tr>\n",
       "      <th>1</th>\n",
       "      <td>May012216558RT12</td>\n",
       "      <td>16558</td>\n",
       "      <td>2022-05-01</td>\n",
       "      <td>2022-05-02</td>\n",
       "      <td>2</td>\n",
       "      <td>Standard</td>\n",
       "      <td>others</td>\n",
       "      <td>3</td>\n",
       "      <td>Cancelled</td>\n",
       "      <td>9100</td>\n",
       "      <td>3640</td>\n",
       "      <td>W 19</td>\n",
       "      <td>weekend</td>\n",
       "      <td>Atliq Grands</td>\n",
       "      <td>Luxury</td>\n",
       "      <td>Delhi</td>\n",
       "    </tr>\n",
       "    <tr>\n",
       "      <th>2</th>\n",
       "      <td>May012216558RT13</td>\n",
       "      <td>16558</td>\n",
       "      <td>2022-05-01</td>\n",
       "      <td>2022-05-04</td>\n",
       "      <td>2</td>\n",
       "      <td>Standard</td>\n",
       "      <td>logtrip</td>\n",
       "      <td>5</td>\n",
       "      <td>Checked Out</td>\n",
       "      <td>9100</td>\n",
       "      <td>9100</td>\n",
       "      <td>W 19</td>\n",
       "      <td>weekend</td>\n",
       "      <td>Atliq Grands</td>\n",
       "      <td>Luxury</td>\n",
       "      <td>Delhi</td>\n",
       "    </tr>\n",
       "    <tr>\n",
       "      <th>3</th>\n",
       "      <td>May012216558RT14</td>\n",
       "      <td>16558</td>\n",
       "      <td>2022-05-01</td>\n",
       "      <td>2022-05-02</td>\n",
       "      <td>2</td>\n",
       "      <td>Standard</td>\n",
       "      <td>others</td>\n",
       "      <td>3</td>\n",
       "      <td>Cancelled</td>\n",
       "      <td>9100</td>\n",
       "      <td>3640</td>\n",
       "      <td>W 19</td>\n",
       "      <td>weekend</td>\n",
       "      <td>Atliq Grands</td>\n",
       "      <td>Luxury</td>\n",
       "      <td>Delhi</td>\n",
       "    </tr>\n",
       "    <tr>\n",
       "      <th>4</th>\n",
       "      <td>May012216558RT15</td>\n",
       "      <td>16558</td>\n",
       "      <td>2022-05-01</td>\n",
       "      <td>2022-05-02</td>\n",
       "      <td>4</td>\n",
       "      <td>Standard</td>\n",
       "      <td>direct online</td>\n",
       "      <td>5</td>\n",
       "      <td>Checked Out</td>\n",
       "      <td>10920</td>\n",
       "      <td>10920</td>\n",
       "      <td>W 19</td>\n",
       "      <td>weekend</td>\n",
       "      <td>Atliq Grands</td>\n",
       "      <td>Luxury</td>\n",
       "      <td>Delhi</td>\n",
       "    </tr>\n",
       "    <tr>\n",
       "      <th>...</th>\n",
       "      <td>...</td>\n",
       "      <td>...</td>\n",
       "      <td>...</td>\n",
       "      <td>...</td>\n",
       "      <td>...</td>\n",
       "      <td>...</td>\n",
       "      <td>...</td>\n",
       "      <td>...</td>\n",
       "      <td>...</td>\n",
       "      <td>...</td>\n",
       "      <td>...</td>\n",
       "      <td>...</td>\n",
       "      <td>...</td>\n",
       "      <td>...</td>\n",
       "      <td>...</td>\n",
       "      <td>...</td>\n",
       "    </tr>\n",
       "    <tr>\n",
       "      <th>134585</th>\n",
       "      <td>Jul312217564RT46</td>\n",
       "      <td>17564</td>\n",
       "      <td>2022-07-31</td>\n",
       "      <td>2022-08-03</td>\n",
       "      <td>1</td>\n",
       "      <td>Presidential</td>\n",
       "      <td>makeyourtrip</td>\n",
       "      <td>2</td>\n",
       "      <td>Checked Out</td>\n",
       "      <td>32300</td>\n",
       "      <td>32300</td>\n",
       "      <td>W 32</td>\n",
       "      <td>weekend</td>\n",
       "      <td>Atliq Seasons</td>\n",
       "      <td>Business</td>\n",
       "      <td>Mumbai</td>\n",
       "    </tr>\n",
       "    <tr>\n",
       "      <th>134586</th>\n",
       "      <td>Jul312217564RT47</td>\n",
       "      <td>17564</td>\n",
       "      <td>2022-07-31</td>\n",
       "      <td>2022-08-01</td>\n",
       "      <td>4</td>\n",
       "      <td>Presidential</td>\n",
       "      <td>logtrip</td>\n",
       "      <td>2</td>\n",
       "      <td>Checked Out</td>\n",
       "      <td>38760</td>\n",
       "      <td>38760</td>\n",
       "      <td>W 32</td>\n",
       "      <td>weekend</td>\n",
       "      <td>Atliq Seasons</td>\n",
       "      <td>Business</td>\n",
       "      <td>Mumbai</td>\n",
       "    </tr>\n",
       "    <tr>\n",
       "      <th>134587</th>\n",
       "      <td>Jul312217564RT48</td>\n",
       "      <td>17564</td>\n",
       "      <td>2022-07-31</td>\n",
       "      <td>2022-08-02</td>\n",
       "      <td>1</td>\n",
       "      <td>Presidential</td>\n",
       "      <td>tripster</td>\n",
       "      <td>3</td>\n",
       "      <td>Cancelled</td>\n",
       "      <td>32300</td>\n",
       "      <td>12920</td>\n",
       "      <td>W 32</td>\n",
       "      <td>weekend</td>\n",
       "      <td>Atliq Seasons</td>\n",
       "      <td>Business</td>\n",
       "      <td>Mumbai</td>\n",
       "    </tr>\n",
       "    <tr>\n",
       "      <th>134588</th>\n",
       "      <td>Jul312217564RT49</td>\n",
       "      <td>17564</td>\n",
       "      <td>2022-07-31</td>\n",
       "      <td>2022-08-01</td>\n",
       "      <td>2</td>\n",
       "      <td>Presidential</td>\n",
       "      <td>logtrip</td>\n",
       "      <td>2</td>\n",
       "      <td>Checked Out</td>\n",
       "      <td>32300</td>\n",
       "      <td>32300</td>\n",
       "      <td>W 32</td>\n",
       "      <td>weekend</td>\n",
       "      <td>Atliq Seasons</td>\n",
       "      <td>Business</td>\n",
       "      <td>Mumbai</td>\n",
       "    </tr>\n",
       "    <tr>\n",
       "      <th>134589</th>\n",
       "      <td>Jul312217564RT410</td>\n",
       "      <td>17564</td>\n",
       "      <td>2022-07-31</td>\n",
       "      <td>2022-08-01</td>\n",
       "      <td>2</td>\n",
       "      <td>Presidential</td>\n",
       "      <td>makeyourtrip</td>\n",
       "      <td>3</td>\n",
       "      <td>Cancelled</td>\n",
       "      <td>32300</td>\n",
       "      <td>12920</td>\n",
       "      <td>W 32</td>\n",
       "      <td>weekend</td>\n",
       "      <td>Atliq Seasons</td>\n",
       "      <td>Business</td>\n",
       "      <td>Mumbai</td>\n",
       "    </tr>\n",
       "  </tbody>\n",
       "</table>\n",
       "<p>134590 rows × 16 columns</p>\n",
       "</div>"
      ],
      "text/plain": [
       "               booking_id  property_id check_in_date checkout_date  no_guests  \\\n",
       "0        May012216558RT11        16558    2022-05-01    2022-05-02          3   \n",
       "1        May012216558RT12        16558    2022-05-01    2022-05-02          2   \n",
       "2        May012216558RT13        16558    2022-05-01    2022-05-04          2   \n",
       "3        May012216558RT14        16558    2022-05-01    2022-05-02          2   \n",
       "4        May012216558RT15        16558    2022-05-01    2022-05-02          4   \n",
       "...                   ...          ...           ...           ...        ...   \n",
       "134585   Jul312217564RT46        17564    2022-07-31    2022-08-03          1   \n",
       "134586   Jul312217564RT47        17564    2022-07-31    2022-08-01          4   \n",
       "134587   Jul312217564RT48        17564    2022-07-31    2022-08-02          1   \n",
       "134588   Jul312217564RT49        17564    2022-07-31    2022-08-01          2   \n",
       "134589  Jul312217564RT410        17564    2022-07-31    2022-08-01          2   \n",
       "\n",
       "       room_category booking_platform  ratings_given booking_status  \\\n",
       "0           Standard    direct online              1    Checked Out   \n",
       "1           Standard           others              3      Cancelled   \n",
       "2           Standard          logtrip              5    Checked Out   \n",
       "3           Standard           others              3      Cancelled   \n",
       "4           Standard    direct online              5    Checked Out   \n",
       "...              ...              ...            ...            ...   \n",
       "134585  Presidential     makeyourtrip              2    Checked Out   \n",
       "134586  Presidential          logtrip              2    Checked Out   \n",
       "134587  Presidential         tripster              3      Cancelled   \n",
       "134588  Presidential          logtrip              2    Checked Out   \n",
       "134589  Presidential     makeyourtrip              3      Cancelled   \n",
       "\n",
       "        revenue_generated  revenue_realized week no day_type  property_name  \\\n",
       "0                   10010             10010    W 19  weekend   Atliq Grands   \n",
       "1                    9100              3640    W 19  weekend   Atliq Grands   \n",
       "2                    9100              9100    W 19  weekend   Atliq Grands   \n",
       "3                    9100              3640    W 19  weekend   Atliq Grands   \n",
       "4                   10920             10920    W 19  weekend   Atliq Grands   \n",
       "...                   ...               ...     ...      ...            ...   \n",
       "134585              32300             32300    W 32  weekend  Atliq Seasons   \n",
       "134586              38760             38760    W 32  weekend  Atliq Seasons   \n",
       "134587              32300             12920    W 32  weekend  Atliq Seasons   \n",
       "134588              32300             32300    W 32  weekend  Atliq Seasons   \n",
       "134589              32300             12920    W 32  weekend  Atliq Seasons   \n",
       "\n",
       "        category    city  \n",
       "0         Luxury   Delhi  \n",
       "1         Luxury   Delhi  \n",
       "2         Luxury   Delhi  \n",
       "3         Luxury   Delhi  \n",
       "4         Luxury   Delhi  \n",
       "...          ...     ...  \n",
       "134585  Business  Mumbai  \n",
       "134586  Business  Mumbai  \n",
       "134587  Business  Mumbai  \n",
       "134588  Business  Mumbai  \n",
       "134589  Business  Mumbai  \n",
       "\n",
       "[134590 rows x 16 columns]"
      ]
     },
     "execution_count": 39,
     "metadata": {},
     "output_type": "execute_result"
    }
   ],
   "source": [
    "merged_df.drop(['booking_date','date'],axis=1,inplace=True)\n",
    "merged_df"
   ]
  },
  {
   "cell_type": "code",
   "execution_count": 40,
   "id": "94c52f55",
   "metadata": {},
   "outputs": [],
   "source": [
    "merged_df.to_csv('Booking_details.csv')\n",
    "fact_agg_bookings.to_csv('Occupancy.csv')\n"
   ]
  },
  {
   "cell_type": "code",
   "execution_count": 46,
   "id": "4b499901",
   "metadata": {},
   "outputs": [],
   "source": [
    "merged_df['year'] = merged_df['check_in_date'].dt.year\n",
    "merged_df['month'] = merged_df['check_in_date'].dt.month\n",
    "merged_df['day_of_week'] = merged_df['check_in_date'].dt.dayofweek\n",
    "merged_df.drop(['check_in_date','checkout_date'],axis=1,inplace=True)"
   ]
  },
  {
   "cell_type": "markdown",
   "id": "c6a3fc28",
   "metadata": {},
   "source": [
    "# Visualization"
   ]
  },
  {
   "cell_type": "code",
   "execution_count": 47,
   "id": "6a4a163c",
   "metadata": {},
   "outputs": [
    {
     "data": {
      "text/html": [
       "<div>\n",
       "<style scoped>\n",
       "    .dataframe tbody tr th:only-of-type {\n",
       "        vertical-align: middle;\n",
       "    }\n",
       "\n",
       "    .dataframe tbody tr th {\n",
       "        vertical-align: top;\n",
       "    }\n",
       "\n",
       "    .dataframe thead th {\n",
       "        text-align: right;\n",
       "    }\n",
       "</style>\n",
       "<table border=\"1\" class=\"dataframe\">\n",
       "  <thead>\n",
       "    <tr style=\"text-align: right;\">\n",
       "      <th></th>\n",
       "      <th>booking_id</th>\n",
       "      <th>property_id</th>\n",
       "      <th>no_guests</th>\n",
       "      <th>room_category</th>\n",
       "      <th>booking_platform</th>\n",
       "      <th>ratings_given</th>\n",
       "      <th>booking_status</th>\n",
       "      <th>revenue_generated</th>\n",
       "      <th>revenue_realized</th>\n",
       "      <th>week no</th>\n",
       "      <th>day_type</th>\n",
       "      <th>property_name</th>\n",
       "      <th>category</th>\n",
       "      <th>city</th>\n",
       "      <th>year</th>\n",
       "      <th>month</th>\n",
       "      <th>day_of_week</th>\n",
       "    </tr>\n",
       "  </thead>\n",
       "  <tbody>\n",
       "    <tr>\n",
       "      <th>0</th>\n",
       "      <td>May012216558RT11</td>\n",
       "      <td>16558</td>\n",
       "      <td>3</td>\n",
       "      <td>Standard</td>\n",
       "      <td>direct online</td>\n",
       "      <td>1</td>\n",
       "      <td>Checked Out</td>\n",
       "      <td>10010</td>\n",
       "      <td>10010</td>\n",
       "      <td>W 19</td>\n",
       "      <td>weekend</td>\n",
       "      <td>Atliq Grands</td>\n",
       "      <td>Luxury</td>\n",
       "      <td>Delhi</td>\n",
       "      <td>2022</td>\n",
       "      <td>5</td>\n",
       "      <td>6</td>\n",
       "    </tr>\n",
       "    <tr>\n",
       "      <th>1</th>\n",
       "      <td>May012216558RT12</td>\n",
       "      <td>16558</td>\n",
       "      <td>2</td>\n",
       "      <td>Standard</td>\n",
       "      <td>others</td>\n",
       "      <td>3</td>\n",
       "      <td>Cancelled</td>\n",
       "      <td>9100</td>\n",
       "      <td>3640</td>\n",
       "      <td>W 19</td>\n",
       "      <td>weekend</td>\n",
       "      <td>Atliq Grands</td>\n",
       "      <td>Luxury</td>\n",
       "      <td>Delhi</td>\n",
       "      <td>2022</td>\n",
       "      <td>5</td>\n",
       "      <td>6</td>\n",
       "    </tr>\n",
       "    <tr>\n",
       "      <th>2</th>\n",
       "      <td>May012216558RT13</td>\n",
       "      <td>16558</td>\n",
       "      <td>2</td>\n",
       "      <td>Standard</td>\n",
       "      <td>logtrip</td>\n",
       "      <td>5</td>\n",
       "      <td>Checked Out</td>\n",
       "      <td>9100</td>\n",
       "      <td>9100</td>\n",
       "      <td>W 19</td>\n",
       "      <td>weekend</td>\n",
       "      <td>Atliq Grands</td>\n",
       "      <td>Luxury</td>\n",
       "      <td>Delhi</td>\n",
       "      <td>2022</td>\n",
       "      <td>5</td>\n",
       "      <td>6</td>\n",
       "    </tr>\n",
       "    <tr>\n",
       "      <th>3</th>\n",
       "      <td>May012216558RT14</td>\n",
       "      <td>16558</td>\n",
       "      <td>2</td>\n",
       "      <td>Standard</td>\n",
       "      <td>others</td>\n",
       "      <td>3</td>\n",
       "      <td>Cancelled</td>\n",
       "      <td>9100</td>\n",
       "      <td>3640</td>\n",
       "      <td>W 19</td>\n",
       "      <td>weekend</td>\n",
       "      <td>Atliq Grands</td>\n",
       "      <td>Luxury</td>\n",
       "      <td>Delhi</td>\n",
       "      <td>2022</td>\n",
       "      <td>5</td>\n",
       "      <td>6</td>\n",
       "    </tr>\n",
       "    <tr>\n",
       "      <th>4</th>\n",
       "      <td>May012216558RT15</td>\n",
       "      <td>16558</td>\n",
       "      <td>4</td>\n",
       "      <td>Standard</td>\n",
       "      <td>direct online</td>\n",
       "      <td>5</td>\n",
       "      <td>Checked Out</td>\n",
       "      <td>10920</td>\n",
       "      <td>10920</td>\n",
       "      <td>W 19</td>\n",
       "      <td>weekend</td>\n",
       "      <td>Atliq Grands</td>\n",
       "      <td>Luxury</td>\n",
       "      <td>Delhi</td>\n",
       "      <td>2022</td>\n",
       "      <td>5</td>\n",
       "      <td>6</td>\n",
       "    </tr>\n",
       "  </tbody>\n",
       "</table>\n",
       "</div>"
      ],
      "text/plain": [
       "         booking_id  property_id  no_guests room_category booking_platform  \\\n",
       "0  May012216558RT11        16558          3      Standard    direct online   \n",
       "1  May012216558RT12        16558          2      Standard           others   \n",
       "2  May012216558RT13        16558          2      Standard          logtrip   \n",
       "3  May012216558RT14        16558          2      Standard           others   \n",
       "4  May012216558RT15        16558          4      Standard    direct online   \n",
       "\n",
       "   ratings_given booking_status  revenue_generated  revenue_realized week no  \\\n",
       "0              1    Checked Out              10010             10010    W 19   \n",
       "1              3      Cancelled               9100              3640    W 19   \n",
       "2              5    Checked Out               9100              9100    W 19   \n",
       "3              3      Cancelled               9100              3640    W 19   \n",
       "4              5    Checked Out              10920             10920    W 19   \n",
       "\n",
       "  day_type property_name category   city  year  month  day_of_week  \n",
       "0  weekend  Atliq Grands   Luxury  Delhi  2022      5            6  \n",
       "1  weekend  Atliq Grands   Luxury  Delhi  2022      5            6  \n",
       "2  weekend  Atliq Grands   Luxury  Delhi  2022      5            6  \n",
       "3  weekend  Atliq Grands   Luxury  Delhi  2022      5            6  \n",
       "4  weekend  Atliq Grands   Luxury  Delhi  2022      5            6  "
      ]
     },
     "execution_count": 47,
     "metadata": {},
     "output_type": "execute_result"
    }
   ],
   "source": [
    "merged_df.head()"
   ]
  },
  {
   "cell_type": "code",
   "execution_count": 54,
   "id": "9f58ae60",
   "metadata": {},
   "outputs": [
    {
     "data": {
      "image/png": "[encoded data removed]",
      "text/plain": [
       "<Figure size 640x480 with 1 Axes>"
      ]
     },
     "metadata": {},
     "output_type": "display_data"
    }
   ],
   "source": [
    "#plt.figure(figsize=(8,6))\n",
    "sns.barplot(data=merged_df,x='property_name',y='revenue_realized')\n",
    "plt.xticks(rotation=90)\n",
    "plt.xlabel(\"Property name\")\n",
    "plt.ylabel(\"Total Revenue\")\n",
    "plt.title(\"Revenue by Property\")\n",
    "plt.show()"
   ]
  },
  {
   "cell_type": "code",
   "execution_count": 60,
   "id": "682efce2",
   "metadata": {},
   "outputs": [
    {
     "data": {
      "image/png": "[encoded data removed]",
      "text/plain": [
       "<Figure size 2000x1000 with 3 Axes>"
      ]
     },
     "metadata": {},
     "output_type": "display_data"
    }
   ],
   "source": [
    "\n",
    "sns.catplot(y = 'revenue_realized', x = 'property_name', data = merged_df, aspect=2,palette='Paired',kind=\"bar\",col='month',col_wrap=2)\n",
    "plt.title(\"Month wise Revenue\",fontsize=30)\n",
    "plt.show()"
   ]
  },
  {
   "cell_type": "code",
   "execution_count": 70,
   "id": "155fba6d",
   "metadata": {},
   "outputs": [
    {
     "data": {
      "image/png": "[encoded data removed]",
      "text/plain": [
       "<Figure size 640x480 with 1 Axes>"
      ]
     },
     "metadata": {},
     "output_type": "display_data"
    }
   ],
   "source": [
    "plt.pie(merged_df['booking_platform'].value_counts(),labels = merged_df['booking_platform'].value_counts().index,autopct='%1.1f%%', startangle=90,explode=[0.1,0.05,0,0,0,0,0])\n",
    "plt.title(\"Booking platform Distribution\",fontsize=18,color='green')\n",
    "plt.show()"
   ]
  },
  {
   "cell_type": "code",
   "execution_count": 80,
   "id": "a54ba72b",
   "metadata": {},
   "outputs": [
    {
     "data": {
      "image/png": "[encoded data removed]",
      "text/plain": [
       "<Figure size 1000x600 with 2 Axes>"
      ]
     },
     "metadata": {},
     "output_type": "display_data"
    }
   ],
   "source": [
    "# Create the line plot with primary y-axis\n",
    "plt.figure(figsize=(10, 6))\n",
    "ax = sns.lineplot(data=merged_df, x='week no', y='revenue_realized', color='red',marker='o')\n",
    "\n",
    "# Create a secondary y-axis\n",
    "ax2 = ax.twinx()\n",
    "\n",
    "# Add the line plot for 'ratings_given' to the secondary y-axis\n",
    "sns.lineplot(data=merged_df, x='week no', y='ratings_given', ax=ax2, color='blue',marker='x')\n",
    "\n",
    "# Set labels and title\n",
    "ax.set_xlabel('Week Number',color='darkgreen')\n",
    "ax.set_ylabel('Revenue Realized', color='red')\n",
    "ax2.set_ylabel('Ratings Given', color='blue')\n",
    "plt.title('Weekwise revenue generated with reatings')\n",
    "\n",
    "# Show the plot\n",
    "plt.show()"
   ]
  },
  {
   "cell_type": "code",
   "execution_count": 82,
   "id": "e6dcd936",
   "metadata": {},
   "outputs": [
    {
     "data": {
      "image/png": "[encoded data removed]",
      "text/plain": [
       "<Figure size 640x480 with 1 Axes>"
      ]
     },
     "metadata": {},
     "output_type": "display_data"
    }
   ],
   "source": [
    "sns.barplot(merged_df,x='city',y ='revenue_realized')\n",
    "plt.title(\"Revenue by City\",fontsize=20,color= 'red')\n",
    "plt.xlabel(\"City\",fontsize=15,color='green')\n",
    "plt.ylabel(\"Revenue\",fontsize=15,color='green')\n",
    "plt.show()"
   ]
  },
  {
   "cell_type": "code",
   "execution_count": 98,
   "id": "335a3ecf",
   "metadata": {},
   "outputs": [
    {
     "data": {
      "text/plain": [
       "<Axes: xlabel='capacity', ylabel='successful_bookings'>"
      ]
     },
     "execution_count": 98,
     "metadata": {},
     "output_type": "execute_result"
    },
    {
     "data": {
      "image/png": "[encoded data removed]",
      "text/plain": [
       "<Figure size 640x480 with 1 Axes>"
      ]
     },
     "metadata": {},
     "output_type": "display_data"
    }
   ],
   "source": [
    "sns.scatterplot(fact_agg_bookings,x='capacity',y='successful_bookings')"
   ]
  },
  {
   "cell_type": "code",
   "execution_count": 108,
   "id": "2ca29b23",
   "metadata": {},
   "outputs": [
    {
     "data": {
      "image/png": "[encoded data removed]",
      "text/plain": [
       "<Figure size 640x480 with 1 Axes>"
      ]
     },
     "metadata": {},
     "output_type": "display_data"
    }
   ],
   "source": [
    "plt.pie(merged_df['day_type'].value_counts(),labels = merged_df['day_type'].value_counts().index,autopct='%1.1f%%', startangle=90,colors=['coral','magenta'],explode=[0.05,0])\n",
    "plt.title(\"Booking platform Distribution\",fontsize=18,color='green')\n",
    "plt.show()"
   ]
  },
  {
   "cell_type": "code",
   "execution_count": 99,
   "id": "3e088261",
   "metadata": {},
   "outputs": [
    {
     "data": {
      "text/html": [
       "<div>\n",
       "<style scoped>\n",
       "    .dataframe tbody tr th:only-of-type {\n",
       "        vertical-align: middle;\n",
       "    }\n",
       "\n",
       "    .dataframe tbody tr th {\n",
       "        vertical-align: top;\n",
       "    }\n",
       "\n",
       "    .dataframe thead th {\n",
       "        text-align: right;\n",
       "    }\n",
       "</style>\n",
       "<table border=\"1\" class=\"dataframe\">\n",
       "  <thead>\n",
       "    <tr style=\"text-align: right;\">\n",
       "      <th></th>\n",
       "      <th>booking_id</th>\n",
       "      <th>property_id</th>\n",
       "      <th>no_guests</th>\n",
       "      <th>room_category</th>\n",
       "      <th>booking_platform</th>\n",
       "      <th>ratings_given</th>\n",
       "      <th>booking_status</th>\n",
       "      <th>revenue_generated</th>\n",
       "      <th>revenue_realized</th>\n",
       "      <th>week no</th>\n",
       "      <th>day_type</th>\n",
       "      <th>property_name</th>\n",
       "      <th>category</th>\n",
       "      <th>city</th>\n",
       "      <th>year</th>\n",
       "      <th>month</th>\n",
       "      <th>day_of_week</th>\n",
       "    </tr>\n",
       "  </thead>\n",
       "  <tbody>\n",
       "    <tr>\n",
       "      <th>0</th>\n",
       "      <td>May012216558RT11</td>\n",
       "      <td>16558</td>\n",
       "      <td>3</td>\n",
       "      <td>Standard</td>\n",
       "      <td>direct online</td>\n",
       "      <td>1</td>\n",
       "      <td>Checked Out</td>\n",
       "      <td>10010</td>\n",
       "      <td>10010</td>\n",
       "      <td>W 19</td>\n",
       "      <td>weekend</td>\n",
       "      <td>Atliq Grands</td>\n",
       "      <td>Luxury</td>\n",
       "      <td>Delhi</td>\n",
       "      <td>2022</td>\n",
       "      <td>5</td>\n",
       "      <td>6</td>\n",
       "    </tr>\n",
       "    <tr>\n",
       "      <th>1</th>\n",
       "      <td>May012216558RT12</td>\n",
       "      <td>16558</td>\n",
       "      <td>2</td>\n",
       "      <td>Standard</td>\n",
       "      <td>others</td>\n",
       "      <td>3</td>\n",
       "      <td>Cancelled</td>\n",
       "      <td>9100</td>\n",
       "      <td>3640</td>\n",
       "      <td>W 19</td>\n",
       "      <td>weekend</td>\n",
       "      <td>Atliq Grands</td>\n",
       "      <td>Luxury</td>\n",
       "      <td>Delhi</td>\n",
       "      <td>2022</td>\n",
       "      <td>5</td>\n",
       "      <td>6</td>\n",
       "    </tr>\n",
       "    <tr>\n",
       "      <th>2</th>\n",
       "      <td>May012216558RT13</td>\n",
       "      <td>16558</td>\n",
       "      <td>2</td>\n",
       "      <td>Standard</td>\n",
       "      <td>logtrip</td>\n",
       "      <td>5</td>\n",
       "      <td>Checked Out</td>\n",
       "      <td>9100</td>\n",
       "      <td>9100</td>\n",
       "      <td>W 19</td>\n",
       "      <td>weekend</td>\n",
       "      <td>Atliq Grands</td>\n",
       "      <td>Luxury</td>\n",
       "      <td>Delhi</td>\n",
       "      <td>2022</td>\n",
       "      <td>5</td>\n",
       "      <td>6</td>\n",
       "    </tr>\n",
       "    <tr>\n",
       "      <th>3</th>\n",
       "      <td>May012216558RT14</td>\n",
       "      <td>16558</td>\n",
       "      <td>2</td>\n",
       "      <td>Standard</td>\n",
       "      <td>others</td>\n",
       "      <td>3</td>\n",
       "      <td>Cancelled</td>\n",
       "      <td>9100</td>\n",
       "      <td>3640</td>\n",
       "      <td>W 19</td>\n",
       "      <td>weekend</td>\n",
       "      <td>Atliq Grands</td>\n",
       "      <td>Luxury</td>\n",
       "      <td>Delhi</td>\n",
       "      <td>2022</td>\n",
       "      <td>5</td>\n",
       "      <td>6</td>\n",
       "    </tr>\n",
       "    <tr>\n",
       "      <th>4</th>\n",
       "      <td>May012216558RT15</td>\n",
       "      <td>16558</td>\n",
       "      <td>4</td>\n",
       "      <td>Standard</td>\n",
       "      <td>direct online</td>\n",
       "      <td>5</td>\n",
       "      <td>Checked Out</td>\n",
       "      <td>10920</td>\n",
       "      <td>10920</td>\n",
       "      <td>W 19</td>\n",
       "      <td>weekend</td>\n",
       "      <td>Atliq Grands</td>\n",
       "      <td>Luxury</td>\n",
       "      <td>Delhi</td>\n",
       "      <td>2022</td>\n",
       "      <td>5</td>\n",
       "      <td>6</td>\n",
       "    </tr>\n",
       "  </tbody>\n",
       "</table>\n",
       "</div>"
      ],
      "text/plain": [
       "         booking_id  property_id  no_guests room_category booking_platform  \\\n",
       "0  May012216558RT11        16558          3      Standard    direct online   \n",
       "1  May012216558RT12        16558          2      Standard           others   \n",
       "2  May012216558RT13        16558          2      Standard          logtrip   \n",
       "3  May012216558RT14        16558          2      Standard           others   \n",
       "4  May012216558RT15        16558          4      Standard    direct online   \n",
       "\n",
       "   ratings_given booking_status  revenue_generated  revenue_realized week no  \\\n",
       "0              1    Checked Out              10010             10010    W 19   \n",
       "1              3      Cancelled               9100              3640    W 19   \n",
       "2              5    Checked Out               9100              9100    W 19   \n",
       "3              3      Cancelled               9100              3640    W 19   \n",
       "4              5    Checked Out              10920             10920    W 19   \n",
       "\n",
       "  day_type property_name category   city  year  month  day_of_week  \n",
       "0  weekend  Atliq Grands   Luxury  Delhi  2022      5            6  \n",
       "1  weekend  Atliq Grands   Luxury  Delhi  2022      5            6  \n",
       "2  weekend  Atliq Grands   Luxury  Delhi  2022      5            6  \n",
       "3  weekend  Atliq Grands   Luxury  Delhi  2022      5            6  \n",
       "4  weekend  Atliq Grands   Luxury  Delhi  2022      5            6  "
      ]
     },
     "execution_count": 99,
     "metadata": {},
     "output_type": "execute_result"
    }
   ],
   "source": [
    "merged_df.head()"
   ]
  },
  {
   "cell_type": "markdown",
   "id": "e047bc2e",
   "metadata": {},
   "source": [
    "# Encoding categorical columns"
   ]
  },
  {
   "cell_type": "code",
   "execution_count": null,
   "id": "927ce885",
   "metadata": {},
   "outputs": [],
   "source": [
    "from sklearn.preprocessing import LabelEncoder\n",
    "\n",
    "# Create a LabelEncoder object\n",
    "label_encoder = LabelEncoder()\n",
    "\n",
    "# Label encode 'room_category'\n",
    "merged_df['room_category'] = label_encoder.fit_transform(merged_df['room_category'])\n",
    "\n",
    "# Label encode 'booking_platform'\n",
    "merged_df['booking_platform'] = label_encoder.fit_transform(merged_df['booking_platform'])\n",
    "\n",
    "# Label encode 'booking_status'\n",
    "merged_df['booking_status'] = label_encoder.fit_transform(merged_df['booking_status'])\n",
    "\n",
    "# Label encode 'week no'\n",
    "merged_df['week no'] = label_encoder.fit_transform(merged_df['week no'])\n",
    "\n",
    "# Label encode 'day_type'\n",
    "merged_df['day_type'] = label_encoder.fit_transform(merged_df['day_type'])\n",
    "\n",
    "# Label encode 'category'\n",
    "merged_df['category'] = label_encoder.fit_transform(merged_df['category'])\n",
    "\n",
    "# Label encode 'city'\n",
    "merged_df['city'] = label_encoder.fit_transform(merged_df['city'])\n",
    "\n",
    "# Label encode 'property_name'\n",
    "merged_df['property_name'] = label_encoder.fit_transform(merged_df['property_name'])"
   ]
  },
  {
   "cell_type": "code",
   "execution_count": null,
   "id": "1f8476f1",
   "metadata": {},
   "outputs": [],
   "source": []
  },
  {
   "cell_type": "code",
   "execution_count": null,
   "id": "98819221",
   "metadata": {},
   "outputs": [],
   "source": [
    "merged_df.head()"
   ]
  },
  {
   "cell_type": "code",
   "execution_count": null,
   "id": "96e0058d",
   "metadata": {},
   "outputs": [],
   "source": [
    "from sklearn.model_selection import train_test_split\n",
    "from sklearn.linear_model import LinearRegression\n",
    "from sklearn.metrics import mean_squared_error, r2_score\n",
    "\n",
    "\n",
    "# Define features (X) and target variable (y)\n",
    "X = merged_df[['property_name', 'room_category', 'booking_platform', 'ratings_given', 'booking_status', 'revenue_generated', 'week no', 'day_type', 'category', 'city', 'year', 'month', 'day_of_week']]\n",
    "y = merged_df['revenue_realized']\n",
    "\n",
    "# Perform train-test split\n",
    "X_train, X_test, y_train, y_test = train_test_split(X, y, test_size=0.2, random_state=42)\n",
    "\n",
    "# Initialize and fit the linear regression model\n",
    "reg = LinearRegression()\n",
    "reg.fit(X_train, y_train)\n",
    "\n",
    "# Predict on the test set\n",
    "y_pred = reg.predict(X_test)\n",
    "\n",
    "# Evaluate the model\n",
    "mse = mean_squared_error(y_test, y_pred)\n",
    "r2 = r2_score(y_test, y_pred)\n",
    "\n",
    "print(f\"Coefficients -\\n{reg.coef_}\\n\")\n",
    "print(f'Mean Squared Error: {mse}\\n')\n",
    "print(f'R-squared Score: {r2}\\n')\n",
    "print(f\"Intercept :{reg.intercept_}\\n\")"
   ]
  },
  {
   "cell_type": "code",
   "execution_count": null,
   "id": "f55d403d",
   "metadata": {},
   "outputs": [],
   "source": [
    "'property_name', 'room_category', 'booking_platform', 'ratings_given', 'booking_status', 'revenue_generated', 'week no', 'day_type', 'category',\n",
    "'city', 'year', 'month', 'day_of_week'"
   ]
  },
  {
   "cell_type": "code",
   "execution_count": null,
   "id": "05937e31",
   "metadata": {},
   "outputs": [],
   "source": [
    "merged_df.head(2)"
   ]
  },
  {
   "cell_type": "code",
   "execution_count": null,
   "id": "33eb52c2",
   "metadata": {},
   "outputs": [],
   "source": [
    "reg.predict([[4,3,1,1,1,10010,0,1,1,1,2002,5,6]])"
   ]
  }
 ],
 "metadata": {
  "kernelspec": {
   "display_name": "Python 3 (ipykernel)",
   "language": "python",
   "name": "python3"
  },
  "language_info": {
   "codemirror_mode": {
    "name": "ipython",
    "version": 3
   },
   "file_extension": ".py",
   "mimetype": "text/x-python",
   "name": "python",
   "nbconvert_exporter": "python",
   "pygments_lexer": "ipython3",
   "version": "3.11.5"
  }
 },
 "nbformat": 4,
 "nbformat_minor": 5
}
